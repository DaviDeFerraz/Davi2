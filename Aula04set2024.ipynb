{
  "nbformat": 4,
  "nbformat_minor": 0,
  "metadata": {
    "colab": {
      "provenance": [],
      "authorship_tag": "ABX9TyNI1HtEOtLir7V0bRxmo4h8",
      "include_colab_link": true
    },
    "kernelspec": {
      "name": "python3",
      "display_name": "Python 3"
    },
    "language_info": {
      "name": "python"
    }
  },
  "cells": [
    {
      "cell_type": "markdown",
      "metadata": {
        "id": "view-in-github",
        "colab_type": "text"
      },
      "source": [
        "<a href=\"https://colab.research.google.com/github/DaviDeFerraz/Davi2/blob/main/Aula04set2024.ipynb\" target=\"_parent\"><img src=\"https://colab.research.google.com/assets/colab-badge.svg\" alt=\"Open In Colab\"/></a>"
      ]
    },
    {
      "cell_type": "markdown",
      "source": [
        "#**Ex.05 - Aula LP02)**\n",
        "\n",
        "---\n",
        "\n"
      ],
      "metadata": {
        "id": "rnhHPp0RJjy5"
      }
    },
    {
      "cell_type": "code",
      "source": [
        "p = float(input(\"Digite a pol: \"))\n",
        "mm = p * 25.4\n",
        "print(\"o valor em MM é\" , mm)"
      ],
      "metadata": {
        "colab": {
          "base_uri": "https://localhost:8080/"
        },
        "id": "3ZW5_iYqUCaH",
        "outputId": "b75eec17-7f8b-4cc8-80dd-e9a5a314d89b"
      },
      "execution_count": 20,
      "outputs": [
        {
          "output_type": "stream",
          "name": "stdout",
          "text": [
            "Digite a pol: 1\n",
            "o valor em MM é 25.4\n"
          ]
        }
      ]
    },
    {
      "cell_type": "markdown",
      "source": [
        "5) Criar a narrativa, pseudocódigo, fluxograma e código para um programa que receba o raio (r) de uma esfera, e\n",
        "em seguida calcule e exibir o seu volume (v) desta esfera."
      ],
      "metadata": {
        "id": "Jd3r2AaYaYqd"
      }
    },
    {
      "cell_type": "code",
      "execution_count": 16,
      "metadata": {
        "colab": {
          "base_uri": "https://localhost:8080/"
        },
        "id": "7Up8KfcRJh0E",
        "outputId": "65064f95-9aee-49f5-cf21-6ca3b944338d"
      },
      "outputs": [
        {
          "output_type": "stream",
          "name": "stdout",
          "text": [
            "Programa para calcular volume da esfera\n",
            "Digite raio: 1\n",
            "O valor do volume da esfera é 4.1887902047863905\n"
          ]
        }
      ],
      "source": [
        "from math import pi\n",
        "print(\"Programa para calcular volume da esfera\")\n",
        "r = float(input(\"Digite raio: \"))\n",
        "V = (4/3 * pi * r**3)\n",
        "print(\"O valor do volume da esfera é\" , V)"
      ]
    },
    {
      "cell_type": "markdown",
      "source": [
        "6) Criar a narrativa, pseudocódigo, fluxograma e código para um programa que receba um ângulo (g) em graus, e\n",
        "converta este valor para radianos (r)."
      ],
      "metadata": {
        "id": "ZCcf1UVmah0W"
      }
    },
    {
      "cell_type": "code",
      "source": [
        "from math import pi\n",
        "graus = float(input(\"Digite o ângulo em graus: \"))\n",
        "radianos = graus * (pi/180)\n",
        "print(f\"O ângulo de {graus} graus é igual a {radianos} radianos.\")\n"
      ],
      "metadata": {
        "colab": {
          "base_uri": "https://localhost:8080/"
        },
        "id": "VGch65bjVZFf",
        "outputId": "abad47cf-ee35-4c69-883a-92b4c5ce3795"
      },
      "execution_count": 24,
      "outputs": [
        {
          "output_type": "stream",
          "name": "stdout",
          "text": [
            "Digite o ângulo em graus: 180\n",
            "O ângulo de 180.0 graus é igual a 3.141592653589793 radianos.\n"
          ]
        }
      ]
    },
    {
      "cell_type": "markdown",
      "source": [
        "7) Criar a narrativa, pseudocódigo, fluxograma e código para um programa que receba o valor de um ângulo em\n",
        "radianos, e converta este valor para graus."
      ],
      "metadata": {
        "id": "lmAyaWB6apcH"
      }
    },
    {
      "cell_type": "code",
      "source": [],
      "metadata": {
        "id": "63DNr0E9aQtt"
      },
      "execution_count": null,
      "outputs": []
    }
  ]
}